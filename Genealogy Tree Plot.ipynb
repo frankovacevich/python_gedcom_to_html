{
 "cells": [
  {
   "cell_type": "markdown",
   "metadata": {},
   "source": [
    "<h2>Tree structure</h2>"
   ]
  },
  {
   "cell_type": "code",
   "execution_count": 29,
   "metadata": {
    "ExecuteTime": {
     "end_time": "2019-07-29T16:08:38.123404Z",
     "start_time": "2019-07-29T16:08:38.113473Z"
    }
   },
   "outputs": [],
   "source": [
    "\"\"\"\n",
    "This is the tree structure. Each element of the tree is itself a tree.\n",
    "\n",
    "The position_x and position_y are the absolute positions that the item \n",
    "will have on the html file.\n",
    "The children vector is a vector of trees.\n",
    "\"\"\"\n",
    "\n",
    "class t_element:\n",
    "    id = \"\"\n",
    "    name = \"\"\n",
    "    birth_date = \"\"\n",
    "    death_date = \"\"\n",
    "    \n",
    "    position_x = 0\n",
    "    position_y = 0\n",
    "    children = []\n",
    "    \n",
    "    def __init__(self, name_, children_):\n",
    "        self.name = name_\n",
    "        self.children = children_\n",
    "    "
   ]
  },
  {
   "cell_type": "markdown",
   "metadata": {},
   "source": [
    "<h2>Some functions to plot tree to html</h2>"
   ]
  },
  {
   "cell_type": "code",
   "execution_count": 30,
   "metadata": {
    "ExecuteTime": {
     "end_time": "2019-07-29T16:08:38.144349Z",
     "start_time": "2019-07-29T16:08:38.126437Z"
    }
   },
   "outputs": [],
   "source": [
    "## Element sizes in mm\n",
    "default_element_height = 4\n",
    "default_element_width  = 45\n",
    "default_horizontal_clearence = 6\n",
    "default_vertical_clearence = 0.25\n",
    "\n",
    "replace_names = {}\n",
    "replace_names[\"María Angélica de las Nieves Kovacevich\"] = \"María Angélica (Tita) Kovacevich\"\n",
    "replace_names[\"Miguel Mariano Kovacevich\"] = \"Miguel M Kovacevich\"\n",
    "replace_names[\"Aldo José María Peracchio\"] = \"Aldo J M Peracchio\"\n",
    "replace_names[\"Antonio Saturnino Kovacevich\"] = \"Antonio Saturnino Kovacevich\"\n",
    "replace_names[\"María Elena Eduarda Clement\"] = \"María E E Clement\"\n",
    "\n",
    "\n",
    "def return_div(div_class, top, left, w, h, content):\n",
    "    code = \"<div class='\" + div_class + \"'  style='top:\" + str(top) + \"mm; left:\" + str(left) + \"mm;\"\n",
    "    code += \" width:\" + str(w) + \"mm; height:\" + str(h) + \"mm; line-height:\" + str(h) + \"mm;'>\"\n",
    "    code += content\n",
    "    code += \"</div>\\n\"\n",
    "    return code\n",
    "\n",
    "def get_block_html(tree_element, div_class = \"tree_element\"):\n",
    "    top = tree_element.position_y * (default_element_height + default_vertical_clearence)\n",
    "    left = tree_element.position_x * (default_element_width + default_horizontal_clearence)\n",
    "\n",
    "    if \"spouse\" in div_class:\n",
    "        top = top - default_vertical_clearence * div_class.count(\"spouse\")\n",
    "    \n",
    "    ## Accomodate strings\n",
    "    tree_element.name = tree_element.name.replace(\" (Kovačević)\",\"\")\n",
    "    if tree_element.name in replace_names:\n",
    "        tree_element.name = replace_names[tree_element.name]\n",
    "    \n",
    "    if tree_element.birth_date == \"\":\n",
    "        tree_element.birth_date = \"-\"\n",
    "    else:\n",
    "        tree_element.birth_date = \"&lsquo;\" + tree_element.birth_date[2:]\n",
    "    if tree_element.death_date == \"\":\n",
    "        tree_element.death_date = \"-\"\n",
    "    else:\n",
    "        tree_element.death_date = \"&lsquo;\" + tree_element.death_date[2:]\n",
    "    \n",
    "    text = \"<span class='main_content'>\" + str(tree_element.name)  + \" </span>\"\n",
    "    text+= \"<span class='extra_content'>\" + tree_element.birth_date + \" / \" + tree_element.death_date + \"</span>\"\n",
    "    \n",
    "    return return_div(div_class,top,left,default_element_width,default_element_height,text)\n",
    "\n",
    "def get_line_html(tree_element_1, tree_element_2):\n",
    "    ##\n",
    "    ##  (x1,y1) ·------------· (x2,y2)\n",
    "    ##                       |\n",
    "    ##                       |\n",
    "    ##                       |\n",
    "    ##                       |\n",
    "    ##               (x3,y3) ·-------------· (x4,y4)\n",
    "    ##\n",
    "    ##\n",
    "\n",
    "    \n",
    "    X1 = tree_element_1.position_x * (default_element_width + default_horizontal_clearence)\n",
    "    Y1 = tree_element_1.position_y * (default_element_height + default_vertical_clearence)\n",
    "    X2 = tree_element_2.position_x * (default_element_width + default_horizontal_clearence)\n",
    "    Y2 = tree_element_2.position_y * (default_element_height + default_vertical_clearence)\n",
    "    \n",
    "    x1 = X1 + default_element_width\n",
    "    y1 = Y1 + default_element_height * 0.5\n",
    "    \n",
    "    x2 = x1 + default_horizontal_clearence * 0.5\n",
    "    y2 = y1\n",
    "    \n",
    "    x3 = x2\n",
    "    y3 = Y2 + default_element_height * 0.5 \n",
    "    \n",
    "    x4 = X2\n",
    "    y4 = y3\n",
    "        \n",
    "    #return_div(div_class, top, left, w, h, content)\n",
    "    html = return_div(\"hor_line\",y1,x1,x2-x1,1,\"\")\n",
    "    \n",
    "    if y3 > y2:\n",
    "        html+= return_div(\"ver_line\",y2,x2,1,y3-y2,\"\")\n",
    "    else:\n",
    "        html+= return_div(\"ver_line\",y3,x2,1,y2-y3,\"\")\n",
    "        \n",
    "    html+= return_div(\"hor_line\",y3,x3,x4-x3,1,\"\")\n",
    "    \n",
    "    return html\n",
    "\n",
    "\n",
    "def get_whole_tree_html(tree, html_result):\n",
    "    \n",
    "    if len(tree.children) == 0:\n",
    "        return get_spouse_html(tree) + get_block_html(tree)\n",
    "        \n",
    "    for child in tree.children:\n",
    "        html_result += get_whole_tree_html(child,\"\")\n",
    "        html_result += get_line_html(tree, child)\n",
    "    \n",
    "    html_result += get_spouse_html(tree)\n",
    "    \n",
    "    return html_result + get_block_html(tree)\n",
    "\n",
    "def get_spouse_html(tree):\n",
    "    if tree.id not in spouses:\n",
    "        return \"\"\n",
    "    \n",
    "    spouse_html = \"\"\n",
    "    div_class = \"tree_element\"\n",
    "    for spouse in spouses[tree.id]:\n",
    "        div_class += \" spouse\"\n",
    "        spouse_html += get_block_html(individuals[spouse],div_class)\n",
    "    return spouse_html\n",
    "\n",
    "def write_file(tree_html_text):\n",
    "    template = open(\"tree_template.html\",\"r\",encoding=\"UTF-8\")\n",
    "    template_text = template.read()\n",
    "    template.close()\n",
    "    \n",
    "    output = open(\"tree.html\",\"w+\",encoding=\"UTF-8\")\n",
    "    output.write(template_text.replace(\"TREE_CONTENT\",tree_html_text))\n",
    "    output.close()\n"
   ]
  },
  {
   "cell_type": "markdown",
   "metadata": {
    "ExecuteTime": {
     "end_time": "2019-07-25T03:12:09.911278Z",
     "start_time": "2019-07-25T03:12:09.899270Z"
    }
   },
   "source": [
    "<h3>Landscape (deprecated)</h3>"
   ]
  },
  {
   "cell_type": "code",
   "execution_count": 31,
   "metadata": {
    "ExecuteTime": {
     "end_time": "2019-07-29T16:08:38.154353Z",
     "start_time": "2019-07-29T16:08:38.146374Z"
    },
    "code_folding": [
     0
    ]
   },
   "outputs": [
    {
     "data": {
      "text/plain": [
       "'\\ndefault_element_height = 4.5\\ndefault_element_width  = 40\\ndefault_horizontal_clearence = 1\\ndefault_vertical_clearence = 0.7\\n\\ndef get_whole_tree_html_landscape(tree, html_result):\\n    \\n    if len(tree.children) == 0:\\n        return get_block_html(tree)\\n        \\n    for child in tree.children:\\n        html_result += get_whole_tree_html_landscape(child,\"\")\\n        html_result += get_line_html_landscape(tree, child)\\n    \\n    #div_class = \"tree_element\"\\n    #for spouse in spouses[tree.id]:\\n    #    div_class += \" spouse\"\\n    #    html_result += get_block_html(individuals[spouse],div_class)\\n    \\n    return html_result + get_block_html(tree)\\n\\n    \\n\\ndef transpose_tree(tree):\\n    if len(tree.children) == 0:\\n        aux = tree.position_x\\n        tree.position_x = tree.position_y\\n        tree.position_y = aux\\n        return\\n    \\n    for child in tree.children:\\n        transpose_tree(child)\\n    \\n    aux = tree.position_x\\n    tree.position_x = tree.position_y\\n    tree.position_y = aux\\n    return\\n    \\ndef get_line_html_landscape(tree_element_1, tree_element_2):\\n    ##\\n    ##               (x1,y1) ·\\n    ##                       |\\n    ##                       |             \\n    ##                       |            \\n    ##                       |             \\n    ##               (x2,y2) ·-------------· (x3,y3) \\n    ##                                     |\\n    ##                                     |\\n    ##                                     |\\n    ##                                     |\\n    ##                                     · (x4,y4)\\n    ##\\n    \\n    X1 = tree_element_1.position_x * (default_element_width + default_horizontal_clearence)\\n    Y1 = tree_element_1.position_y * (default_element_height + default_vertical_clearence)\\n    X2 = tree_element_2.position_x * (default_element_width + default_horizontal_clearence)\\n    Y2 = tree_element_2.position_y * (default_element_height + default_vertical_clearence)\\n    \\n    x1 = X1 + default_element_width * 0.5\\n    y1 = Y1 + default_element_height\\n    \\n    x2 = x1\\n    y2 = y1 + default_vertical_clearence * 0.5\\n    \\n    x3 = X2 + default_element_width * 0.5\\n    y3 = y2 \\n    \\n    x4 = x3\\n    y4 = Y2\\n        \\n    #return_div(div_class, top, left, w, h, content)\\n    html = return_div(\"ver_line\",y1,x1,1,y2-y1,\"\")\\n    \\n    if x3 > x2:\\n        html+= return_div(\"hor_line\",y2,x2,x3-x2,1,\"\")\\n    else:\\n        html+= return_div(\"hor_line\",y2,x3,x2-x3,1,\"\")\\n        \\n    html+= return_div(\"ver_line\",y3,x3,1,y4-y3,\"\")\\n    \\n    return html\\n'"
      ]
     },
     "execution_count": 31,
     "metadata": {},
     "output_type": "execute_result"
    }
   ],
   "source": [
    "## Element sizes in mm\n",
    "\n",
    "\"\"\"\n",
    "default_element_height = 4.5\n",
    "default_element_width  = 40\n",
    "default_horizontal_clearence = 1\n",
    "default_vertical_clearence = 0.7\n",
    "\n",
    "def get_whole_tree_html_landscape(tree, html_result):\n",
    "    \n",
    "    if len(tree.children) == 0:\n",
    "        return get_block_html(tree)\n",
    "        \n",
    "    for child in tree.children:\n",
    "        html_result += get_whole_tree_html_landscape(child,\"\")\n",
    "        html_result += get_line_html_landscape(tree, child)\n",
    "    \n",
    "    #div_class = \"tree_element\"\n",
    "    #for spouse in spouses[tree.id]:\n",
    "    #    div_class += \" spouse\"\n",
    "    #    html_result += get_block_html(individuals[spouse],div_class)\n",
    "    \n",
    "    return html_result + get_block_html(tree)\n",
    "\n",
    "    \n",
    "\n",
    "def transpose_tree(tree):\n",
    "    if len(tree.children) == 0:\n",
    "        aux = tree.position_x\n",
    "        tree.position_x = tree.position_y\n",
    "        tree.position_y = aux\n",
    "        return\n",
    "    \n",
    "    for child in tree.children:\n",
    "        transpose_tree(child)\n",
    "    \n",
    "    aux = tree.position_x\n",
    "    tree.position_x = tree.position_y\n",
    "    tree.position_y = aux\n",
    "    return\n",
    "    \n",
    "def get_line_html_landscape(tree_element_1, tree_element_2):\n",
    "    ##\n",
    "    ##               (x1,y1) ·\n",
    "    ##                       |\n",
    "    ##                       |             \n",
    "    ##                       |            \n",
    "    ##                       |             \n",
    "    ##               (x2,y2) ·-------------· (x3,y3) \n",
    "    ##                                     |\n",
    "    ##                                     |\n",
    "    ##                                     |\n",
    "    ##                                     |\n",
    "    ##                                     · (x4,y4)\n",
    "    ##\n",
    "    \n",
    "    X1 = tree_element_1.position_x * (default_element_width + default_horizontal_clearence)\n",
    "    Y1 = tree_element_1.position_y * (default_element_height + default_vertical_clearence)\n",
    "    X2 = tree_element_2.position_x * (default_element_width + default_horizontal_clearence)\n",
    "    Y2 = tree_element_2.position_y * (default_element_height + default_vertical_clearence)\n",
    "    \n",
    "    x1 = X1 + default_element_width * 0.5\n",
    "    y1 = Y1 + default_element_height\n",
    "    \n",
    "    x2 = x1\n",
    "    y2 = y1 + default_vertical_clearence * 0.5\n",
    "    \n",
    "    x3 = X2 + default_element_width * 0.5\n",
    "    y3 = y2 \n",
    "    \n",
    "    x4 = x3\n",
    "    y4 = Y2\n",
    "        \n",
    "    #return_div(div_class, top, left, w, h, content)\n",
    "    html = return_div(\"ver_line\",y1,x1,1,y2-y1,\"\")\n",
    "    \n",
    "    if x3 > x2:\n",
    "        html+= return_div(\"hor_line\",y2,x2,x3-x2,1,\"\")\n",
    "    else:\n",
    "        html+= return_div(\"hor_line\",y2,x3,x2-x3,1,\"\")\n",
    "        \n",
    "    html+= return_div(\"ver_line\",y3,x3,1,y4-y3,\"\")\n",
    "    \n",
    "    return html\n",
    "\"\"\""
   ]
  },
  {
   "cell_type": "markdown",
   "metadata": {},
   "source": [
    "<h2>Calculate elements positions in a tree</h2>"
   ]
  },
  {
   "cell_type": "code",
   "execution_count": 32,
   "metadata": {
    "ExecuteTime": {
     "end_time": "2019-07-29T16:08:38.179258Z",
     "start_time": "2019-07-29T16:08:38.158321Z"
    }
   },
   "outputs": [],
   "source": [
    "def calc_elements_positions(tree, current_position_y, current_position_x, spouses_ = {}):\n",
    "    \n",
    "    ## Base case, if no children, set position\n",
    "    if len(tree.children) == 0:\n",
    "        tree.position_y = current_position_y\n",
    "        tree.position_x = current_position_x\n",
    "        \n",
    "        if len(spouses_) != 0 and tree.id in spouses_:\n",
    "             return calc_spouses_positions(tree, current_position_y, current_position_x, spouses_,verbose = True)\n",
    "        return current_position_y + 1\n",
    "       \n",
    "    ## First get the position of it's children\n",
    "    tree.position_y = current_position_y\n",
    "    for child in tree.children:\n",
    "        current_position_y = calc_elements_positions(child, current_position_y, current_position_x + 1,spouses_)\n",
    "        \n",
    "    tree.position_y = (tree.children[0].position_y + tree.children[-1].position_y)/2\n",
    "    tree.position_x = current_position_x\n",
    "    \n",
    "    current_position_y = calc_spouses_positions(tree, current_position_y, current_position_x, spouses_)\n",
    "    \n",
    "    return current_position_y\n",
    "\n",
    "def calc_spouses_positions(tree, current_position_y, current_position_x, spouses_, verbose = False):\n",
    "    ## Spouses\n",
    "    if len(spouses_) != 0 and tree.id in spouses_:\n",
    "        aux_y = tree.position_y\n",
    "        for spouse in spouses_[tree.id]:\n",
    "            \n",
    "            if verbose:\n",
    "                print(current_position_y)\n",
    "            \n",
    "            aux_y += 1\n",
    "            individuals[spouse].position_x = current_position_x\n",
    "            individuals[spouse].position_y = aux_y\n",
    "        \n",
    "        if aux_y + 1 > current_position_y:\n",
    "            current_position_y = aux_y + 1\n",
    "        return current_position_y\n",
    "    else:\n",
    "        return current_position_y"
   ]
  },
  {
   "cell_type": "markdown",
   "metadata": {},
   "source": [
    "<h2>Read gedcom file and create tree</h2>"
   ]
  },
  {
   "cell_type": "code",
   "execution_count": 33,
   "metadata": {
    "ExecuteTime": {
     "end_time": "2019-07-29T16:08:38.200200Z",
     "start_time": "2019-07-29T16:08:38.180256Z"
    }
   },
   "outputs": [
    {
     "name": "stdout",
     "output_type": "stream",
     "text": [
      "Loaded 176 individuals\n"
     ]
    }
   ],
   "source": [
    "gedfile = open(\"family_tree.ged\",\"r\",encoding=\"UTF-8\")\n",
    "ged = gedfile.read()\n",
    "gedfile.close()\n",
    "\n",
    "## Individuals\n",
    "\n",
    "current_individual = \"\"\n",
    "current_individual_birth = \"\"\n",
    "current_individual_death = \"\"\n",
    "individuals = {}\n",
    "\n",
    "prev_line = \"\"\n",
    "\n",
    "for line in ged.split(\"\\n\"):\n",
    "    if line.startswith(\"0 @I\"):\n",
    "        current_individual = line.replace(\"0 @I\",\"\").split(\"@\")[0]\n",
    "        current_individual_birth = \"\"\n",
    "        current_individual_death = \"\"\n",
    "    \n",
    "    if prev_line.startswith(\"1 BIRT\") and line.startswith(\"2 DATE\"):\n",
    "        individuals[current_individual].birth_date = line.split(\" \")[-1]\n",
    "        \n",
    "    if prev_line.startswith(\"1 DEAT\") and line.startswith(\"2 DATE\"):\n",
    "        individuals[current_individual].death_date = line.split(\" \")[-1]\n",
    "    \n",
    "    if line.startswith(\"1 NAME\"):\n",
    "        individuals[current_individual] = t_element( line.replace(\"/\",\"\").replace(\"1 NAME \",\"\") , [] )\n",
    "        individuals[current_individual].birth_date = current_individual_birth\n",
    "        individuals[current_individual].death_date = current_individual_death\n",
    "        individuals[current_individual].id = current_individual\n",
    "    \n",
    "    prev_line = line\n",
    "        \n",
    "## Families (relationships)\n",
    "\n",
    "spouses = {}\n",
    "current_husband = \"\"\n",
    "current_wife = \"\"\n",
    "        \n",
    "for line in ged.split(\"\\n\"):\n",
    "    if line.startswith(\"1 HUSB\"):\n",
    "        current_husband = line.replace(\"1 HUSB \",\"\").replace(\"@\",\"\").replace(\"I\",\"\")\n",
    "    if line.startswith(\"1 WIFE\"):\n",
    "        current_wife = line.replace(\"1 WIFE \",\"\").replace(\"@\",\"\").replace(\"I\",\"\")\n",
    "    \n",
    "        ## Spouses\n",
    "        if current_husband not in spouses:\n",
    "            spouses[current_husband] = []\n",
    "        if current_wife not in spouses[current_husband]:\n",
    "            spouses[current_husband].append(current_wife)\n",
    "    \n",
    "        if current_wife not in spouses:\n",
    "            spouses[current_wife] = []\n",
    "        if current_husband not in spouses[current_wife]:\n",
    "            spouses[current_wife].append(current_husband)\n",
    "    \n",
    "    if line.startswith(\"1 CHIL\"):\n",
    "        child = line.replace(\"1 CHIL \",\"\").replace(\"@\",\"\").replace(\"I\",\"\")\n",
    "        individuals[current_husband].children.append(individuals[child])\n",
    "        individuals[current_wife].children.append(individuals[child])\n",
    "\n",
    "print(\"Loaded \" + str(len(individuals)) + \" individuals\")"
   ]
  },
  {
   "cell_type": "markdown",
   "metadata": {},
   "source": [
    "<hr>"
   ]
  },
  {
   "cell_type": "markdown",
   "metadata": {},
   "source": [
    "<h2>Run</h2>"
   ]
  },
  {
   "cell_type": "code",
   "execution_count": 34,
   "metadata": {
    "ExecuteTime": {
     "end_time": "2019-07-29T16:08:38.211175Z",
     "start_time": "2019-07-29T16:08:38.203191Z"
    }
   },
   "outputs": [],
   "source": [
    "def remove_all_up_to_third_generation(tree):\n",
    "    \n",
    "    if tree.position_x == 3:\n",
    "        if tree.id in spouses:\n",
    "            spouses[tree.id].clear()\n",
    "        tree.children.clear()\n",
    "        return\n",
    "    \n",
    "    for child in tree.children:\n",
    "        remove_all_up_to_third_generation(child)"
   ]
  },
  {
   "cell_type": "code",
   "execution_count": 35,
   "metadata": {
    "ExecuteTime": {
     "end_time": "2019-07-29T16:08:38.241870Z",
     "start_time": "2019-07-29T16:08:38.213167Z"
    },
    "code_folding": []
   },
   "outputs": [
    {
     "name": "stdout",
     "output_type": "stream",
     "text": [
      "79.5\n"
     ]
    }
   ],
   "source": [
    "## NORMAL\n",
    "first_member = individuals[\"500009\"]\n",
    "\n",
    "## calculate elements positions\n",
    "calc_elements_positions(first_member,0,-1,spouses_=spouses)\n",
    "\n",
    "remove_all_up_to_third_generation(first_member)\n",
    "\n",
    "## get tree content\n",
    "html_content = get_whole_tree_html(first_member, \"\")\n",
    "\n",
    "## print to file\n",
    "write_file(html_content)"
   ]
  }
 ],
 "metadata": {
  "kernelspec": {
   "display_name": "Python 3",
   "language": "python",
   "name": "python3"
  },
  "language_info": {
   "codemirror_mode": {
    "name": "ipython",
    "version": 3
   },
   "file_extension": ".py",
   "mimetype": "text/x-python",
   "name": "python",
   "nbconvert_exporter": "python",
   "pygments_lexer": "ipython3",
   "version": "3.6.7"
  },
  "toc": {
   "base_numbering": 1,
   "nav_menu": {},
   "number_sections": true,
   "sideBar": true,
   "skip_h1_title": true,
   "title_cell": "Table of Contents",
   "title_sidebar": "Contents",
   "toc_cell": false,
   "toc_position": {
    "height": "calc(100% - 180px)",
    "left": "10px",
    "top": "150px",
    "width": "273.188px"
   },
   "toc_section_display": true,
   "toc_window_display": true
  }
 },
 "nbformat": 4,
 "nbformat_minor": 2
}
