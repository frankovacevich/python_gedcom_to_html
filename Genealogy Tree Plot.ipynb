{
 "cells": [
  {
   "cell_type": "markdown",
   "metadata": {},
   "source": [
    "<h2>Tree structure</h2>"
   ]
  },
  {
   "cell_type": "code",
   "execution_count": 1,
   "metadata": {
    "ExecuteTime": {
     "end_time": "2019-07-24T22:34:15.750830Z",
     "start_time": "2019-07-24T22:34:15.737771Z"
    }
   },
   "outputs": [],
   "source": [
    "\"\"\"\n",
    "This is the tree structure. Each element of the tree is itself a tree.\n",
    "\n",
    "The position_x and position_y are the absolute positions that the item \n",
    "will have on the html file.\n",
    "The children vector is a vector of trees.\n",
    "\"\"\"\n",
    "\n",
    "class t_element:\n",
    "    id = \"\"\n",
    "    name = \"\"\n",
    "    birth_date = \"\"\n",
    "    death_date = \"\"\n",
    "    \n",
    "    position_x = 0\n",
    "    position_y = 0\n",
    "    children = []\n",
    "    \n",
    "    def __init__(self, name_, children_):\n",
    "        self.name = name_\n",
    "        self.children = children_\n",
    "    "
   ]
  },
  {
   "cell_type": "markdown",
   "metadata": {},
   "source": [
    "<h2>Some functions to plot tree to html</h2>"
   ]
  },
  {
   "cell_type": "code",
   "execution_count": 33,
   "metadata": {
    "ExecuteTime": {
     "end_time": "2019-07-24T22:54:01.108542Z",
     "start_time": "2019-07-24T22:54:01.077676Z"
    }
   },
   "outputs": [],
   "source": [
    "## Element sizes in mm\n",
    "default_element_height = 5\n",
    "default_element_width  = 40\n",
    "default_horizontal_clearence = 10\n",
    "default_vertical_clearence = 1\n",
    "\n",
    "replace_names = {}\n",
    "replace_names[\"María Angélica de las Nieves Kovacevich\"] = \"María Angélica (Tita) Kovacevich\"\n",
    "replace_names[\"Miguel Mariano Kovacevich\"] = \"Miguel M Kovacevich\"\n",
    "replace_names[\"Aldo José María Peracchio\"] = \"Aldo J M Peracchio\"\n",
    "replace_names[\"Antonio Saturnino Kovacevich\"] = \"Antonio Saturnino Kovacevich\"\n",
    "replace_names[\"María Elena Eduarda Clement\"] = \"María E E Clement\"\n",
    "\n",
    "\n",
    "\n",
    "\n",
    "\n",
    "def return_div(div_class, top, left, w, h, content):\n",
    "    code = \"<div class='\" + div_class + \"'  style='top:\" + str(top) + \"mm; left:\" + str(left) + \"mm;\"\n",
    "    code += \" width:\" + str(w) + \"mm; height:\" + str(h) + \"mm; line-height:\" + str(h) + \"mm;'>\"\n",
    "    code += content\n",
    "    code += \"</div>\\n\"\n",
    "    return code\n",
    "\n",
    "def get_block_html(tree_element, div_class = \"tree_element\"):\n",
    "    top = tree_element.position_y * (default_element_height + default_vertical_clearence)\n",
    "    left = tree_element.position_x * (default_element_width + default_horizontal_clearence)\n",
    "\n",
    "    if \"spouse\" in div_class:\n",
    "        top = top - default_vertical_clearence * div_class.count(\"spouse\")\n",
    "    \n",
    "    ## Accomodate strings\n",
    "    tree_element.name = tree_element.name.replace(\" (Kovačević)\",\"\")\n",
    "    if tree_element.name in replace_names:\n",
    "        tree_element.name = replace_names[tree_element.name]\n",
    "    \n",
    "    if tree_element.birth_date == \"\":\n",
    "        tree_element.birth_date = \"-\"\n",
    "    if tree_element.death_date == \"\":\n",
    "        tree_element.death_date = \"-\"\n",
    "    \n",
    "    text = \"<span class='main_content'>\" + str(tree_element.name)  + \" </span>\"\n",
    "    text+= \"<span class='extra_content'>\" + tree_element.birth_date + \"<br>\" + tree_element.death_date + \"</span>\"\n",
    "    \n",
    "    return return_div(div_class,top,left,default_element_width,default_element_height,text)\n",
    "\n",
    "def get_line_html(tree_element_1, tree_element_2):\n",
    "    ##\n",
    "    ##  (x1,y1) ·------------· (x2,y2)\n",
    "    ##                       |\n",
    "    ##                       |\n",
    "    ##                       |\n",
    "    ##                       |\n",
    "    ##               (x3,y3) ·-------------· (x4,y4)\n",
    "    ##\n",
    "    ##\n",
    "\n",
    "    \n",
    "    X1 = tree_element_1.position_x * (default_element_width + default_horizontal_clearence)\n",
    "    Y1 = tree_element_1.position_y * (default_element_height + default_vertical_clearence)\n",
    "    X2 = tree_element_2.position_x * (default_element_width + default_horizontal_clearence)\n",
    "    Y2 = tree_element_2.position_y * (default_element_height + default_vertical_clearence)\n",
    "    \n",
    "    x1 = X1 + default_element_width\n",
    "    y1 = Y1 + default_element_height * 0.5\n",
    "    \n",
    "    x2 = x1 + default_horizontal_clearence * 0.5\n",
    "    y2 = y1\n",
    "    \n",
    "    x3 = x2\n",
    "    y3 = Y2 + default_element_height * 0.5 \n",
    "    \n",
    "    x4 = X2\n",
    "    y4 = y3\n",
    "        \n",
    "    #return_div(div_class, top, left, w, h, content)\n",
    "    html = return_div(\"hor_line\",y1,x1,x2-x1,1,\"\")\n",
    "    \n",
    "    if y3 > y2:\n",
    "        html+= return_div(\"ver_line\",y2,x2,1,y3-y2,\"\")\n",
    "    else:\n",
    "        html+= return_div(\"ver_line\",y3,x2,1,y2-y3,\"\")\n",
    "        \n",
    "    html+= return_div(\"hor_line\",y3,x3,x4-x3,1,\"\")\n",
    "    \n",
    "    return html\n",
    "\n",
    "\n",
    "def get_whole_tree_html(tree, html_result):\n",
    "    if len(tree.children) == 0:\n",
    "        return get_block_html(tree)\n",
    "        \n",
    "    for child in tree.children:\n",
    "        html_result += get_whole_tree_html(child,\"\")\n",
    "        html_result += get_line_html(tree, child)\n",
    "    \n",
    "    div_class = \"tree_element\"\n",
    "    for spouse in spouses[tree.id]:\n",
    "        div_class += \" spouse\"\n",
    "        html_result += get_block_html(individuals[spouse],div_class)\n",
    "    \n",
    "    return html_result + get_block_html(tree)\n",
    "\n",
    "\n",
    "def write_file(tree_html_text):\n",
    "    template = open(\"tree_template.html\",\"r\",encoding=\"UTF-8\")\n",
    "    template_text = template.read()\n",
    "    template.close()\n",
    "    \n",
    "    output = open(\"tree.html\",\"w+\",encoding=\"UTF-8\")\n",
    "    output.write(template_text.replace(\"TREE_CONTENT\",tree_html_text))\n",
    "    output.close()\n"
   ]
  },
  {
   "cell_type": "markdown",
   "metadata": {},
   "source": [
    "<h2>Calculate elements positions in a tree</h2>"
   ]
  },
  {
   "cell_type": "code",
   "execution_count": 3,
   "metadata": {
    "ExecuteTime": {
     "end_time": "2019-07-24T22:34:15.826961Z",
     "start_time": "2019-07-24T22:34:15.797855Z"
    }
   },
   "outputs": [],
   "source": [
    "def calc_elements_positions(tree, current_position_y, current_position_x, spouses_ = {}):\n",
    "    \n",
    "    ## Base case, if no children, set position\n",
    "    if len(tree.children) == 0:\n",
    "        tree.position_y = current_position_y\n",
    "        tree.position_x = current_position_x\n",
    "        return current_position_y + 1\n",
    "       \n",
    "    ## First get the position of it's children\n",
    "    tree.position_y = current_position_y\n",
    "    for child in tree.children:\n",
    "        current_position_y = calc_elements_positions(child, current_position_y, current_position_x + 1,spouses_)\n",
    "        \n",
    "    tree.position_y = (tree.children[0].position_y + tree.children[-1].position_y)/2\n",
    "    tree.position_x = current_position_x\n",
    "    \n",
    "    ## Spouses\n",
    "    if len(spouses_) != 0:\n",
    "        aux_y = tree.position_y\n",
    "        for spouse in spouses_[tree.id]:\n",
    "            aux_y += 1\n",
    "            individuals[spouse].position_x = current_position_x\n",
    "            individuals[spouse].position_y = aux_y\n",
    "        \n",
    "        if aux_y + 1 > current_position_y:\n",
    "            current_position_y = aux_y + 1\n",
    "    \n",
    "    return current_position_y\n"
   ]
  },
  {
   "cell_type": "markdown",
   "metadata": {},
   "source": [
    "<h2>Read gedcom file and create tree</h2>"
   ]
  },
  {
   "cell_type": "code",
   "execution_count": 4,
   "metadata": {
    "ExecuteTime": {
     "end_time": "2019-07-24T22:34:15.861470Z",
     "start_time": "2019-07-24T22:34:15.832516Z"
    }
   },
   "outputs": [],
   "source": [
    "gedfile = open(\"family_tree.ged\",\"r\",encoding=\"UTF-8\")\n",
    "ged = gedfile.read()\n",
    "gedfile.close()\n",
    "\n",
    "## Individuals\n",
    "\n",
    "current_individual = \"\"\n",
    "current_individual_birth = \"\"\n",
    "current_individual_death = \"\"\n",
    "individuals = {}\n",
    "\n",
    "prev_line = \"\"\n",
    "\n",
    "for line in ged.split(\"\\n\"):\n",
    "    if line.startswith(\"0 @I\"):\n",
    "        current_individual = line.replace(\"0 @I\",\"\").split(\"@\")[0]\n",
    "        current_individual_birth = \"\"\n",
    "        current_individual_death = \"\"\n",
    "    \n",
    "    if prev_line.startswith(\"1 BIRT\") and line.startswith(\"2 DATE\"):\n",
    "        individuals[current_individual].birth_date = line.split(\" \")[-1]\n",
    "        \n",
    "    if prev_line.startswith(\"1 DEAT\") and line.startswith(\"2 DATE\"):\n",
    "        individuals[current_individual].death_date = line.split(\" \")[-1]\n",
    "    \n",
    "    if line.startswith(\"1 NAME\"):\n",
    "        individuals[current_individual] = t_element( line.replace(\"/\",\"\").replace(\"1 NAME \",\"\") , [] )\n",
    "        individuals[current_individual].birth_date = current_individual_birth\n",
    "        individuals[current_individual].death_date = current_individual_death\n",
    "        individuals[current_individual].id = current_individual\n",
    "    \n",
    "    prev_line = line\n",
    "        \n",
    "## Families (relationships)\n",
    "\n",
    "spouses = {}\n",
    "current_husband = \"\"\n",
    "current_wife = \"\"\n",
    "        \n",
    "for line in ged.split(\"\\n\"):\n",
    "    if line.startswith(\"1 HUSB\"):\n",
    "        current_husband = line.replace(\"1 HUSB \",\"\").replace(\"@\",\"\").replace(\"I\",\"\")\n",
    "    if line.startswith(\"1 WIFE\"):\n",
    "        current_wife = line.replace(\"1 WIFE \",\"\").replace(\"@\",\"\").replace(\"I\",\"\")\n",
    "    \n",
    "        ## Spouses\n",
    "        if current_husband not in spouses:\n",
    "            spouses[current_husband] = []\n",
    "        if current_wife not in spouses[current_husband]:\n",
    "            spouses[current_husband].append(current_wife)\n",
    "    \n",
    "        if current_wife not in spouses:\n",
    "            spouses[current_wife] = []\n",
    "        if current_husband not in spouses[current_wife]:\n",
    "            spouses[current_wife].append(current_husband)\n",
    "    \n",
    "    if line.startswith(\"1 CHIL\"):\n",
    "        child = line.replace(\"1 CHIL \",\"\").replace(\"@\",\"\").replace(\"I\",\"\")\n",
    "        individuals[current_husband].children.append(individuals[child])\n",
    "        individuals[current_wife].children.append(individuals[child])\n",
    "        "
   ]
  },
  {
   "cell_type": "code",
   "execution_count": 5,
   "metadata": {
    "ExecuteTime": {
     "end_time": "2019-07-24T22:34:15.890210Z",
     "start_time": "2019-07-24T22:34:15.866135Z"
    }
   },
   "outputs": [],
   "source": [
    "individuals[\"500083\"].name"
   ]
  },
  {
   "cell_type": "markdown",
   "metadata": {},
   "source": [
    "<hr>"
   ]
  },
  {
   "cell_type": "markdown",
   "metadata": {},
   "source": [
    "<h2>Run</h2>"
   ]
  },
  {
   "cell_type": "code",
   "execution_count": 34,
   "metadata": {
    "ExecuteTime": {
     "end_time": "2019-07-24T22:54:05.155815Z",
     "start_time": "2019-07-24T22:54:05.136782Z"
    }
   },
   "outputs": [],
   "source": [
    "##\n",
    "first_member = individuals[\"500009\"]\n",
    "\n",
    "## calculate elements positions\n",
    "calc_elements_positions(first_member,0,-1,spouses_=spouses)\n",
    "\n",
    "## get tree content\n",
    "html_content = get_whole_tree_html(first_member, \"\")\n",
    "\n",
    "## print to file\n",
    "write_file(html_content)"
   ]
  }
 ],
 "metadata": {
  "kernelspec": {
   "display_name": "Python 3",
   "language": "python",
   "name": "python3"
  },
  "language_info": {
   "codemirror_mode": {
    "name": "ipython",
    "version": 3
   },
   "file_extension": ".py",
   "mimetype": "text/x-python",
   "name": "python",
   "nbconvert_exporter": "python",
   "pygments_lexer": "ipython3",
   "version": "3.6.7"
  },
  "toc": {
   "base_numbering": 1,
   "nav_menu": {},
   "number_sections": true,
   "sideBar": true,
   "skip_h1_title": true,
   "title_cell": "Table of Contents",
   "title_sidebar": "Contents",
   "toc_cell": false,
   "toc_position": {},
   "toc_section_display": true,
   "toc_window_display": true
  }
 },
 "nbformat": 4,
 "nbformat_minor": 2
}
